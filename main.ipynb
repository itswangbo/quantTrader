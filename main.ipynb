{
 "cells": [
  {
   "cell_type": "code",
   "execution_count": 1,
   "metadata": {},
   "outputs": [],
   "source": [
    "# This Python 3 environment comes with many helpful analytics libraries installed\n",
    "# It is defined by the kaggle/python Docker image: https://github.com/kaggle/docker-python\n",
    "# For example, here's several helpful packages to load\n",
    "import numpy as np # linear algebra\n",
    "import pandas as pd # data processing, CSV file I/O (e.g. pd.read_csv)\n",
    "import os\n",
    "from qids_package.qids import *"
   ]
  },
  {
   "cell_type": "code",
   "execution_count": 2,
   "metadata": {},
   "outputs": [
    {
     "name": "stdout",
     "output_type": "stream",
     "text": [
      "Environment is initialized.\n"
     ]
    }
   ],
   "source": [
    "env = make_env()  # initialize the environment"
   ]
  },
  {
   "cell_type": "code",
   "execution_count": 3,
   "metadata": {},
   "outputs": [
    {
     "name": "stdout",
     "output_type": "stream",
     "text": [
      "Data Feeding is finished.\n"
     ]
    }
   ],
   "source": [
    "# sample code using random number as prediction\n",
    "import random\n",
    "random.seed(42)\n",
    "while not env.is_end():\n",
    "    fundamental_df, market_df = env.get_current_market()  # get correlated dataset\n",
    "\n",
    "    # make your prediction Y here and replace the following four rows\n",
    "    l = []\n",
    "    for idx in range(54):\n",
    "        l.append(random.random())\n",
    "    predict_ds = pd.Series(l)\n",
    "\n",
    "    env.input_prediction(predict_ds)  # upload your predicted Y"
   ]
  },
  {
   "cell_type": "code",
   "execution_count": 4,
   "metadata": {},
   "outputs": [
    {
     "name": "stdout",
     "output_type": "stream",
     "text": [
      "      date_time    return\n",
      "0       s0d1001  0.639427\n",
      "1       s1d1001  0.025011\n",
      "2       s2d1001  0.275029\n",
      "3       s3d1001  0.223211\n",
      "4       s4d1001  0.736471\n",
      "...         ...       ...\n",
      "37795  s49d1700  0.073287\n",
      "37796  s50d1700  0.079234\n",
      "37797  s51d1700  0.920565\n",
      "37798  s52d1700  0.261712\n",
      "37799  s53d1700  0.054814\n",
      "\n",
      "[37800 rows x 2 columns]\n"
     ]
    }
   ],
   "source": [
    "import pandas as pd\n",
    "print(pd.read_csv('./submission.csv'))"
   ]
  }
 ],
 "metadata": {
  "kernelspec": {
   "display_name": "Python 3 (ipykernel)",
   "language": "python",
   "name": "python3"
  },
  "language_info": {
   "codemirror_mode": {
    "name": "ipython",
    "version": 3
   },
   "file_extension": ".py",
   "mimetype": "text/x-python",
   "name": "python",
   "nbconvert_exporter": "python",
   "pygments_lexer": "ipython3",
   "version": "3.10.4"
  },
  "orig_nbformat": 4
 },
 "nbformat": 4,
 "nbformat_minor": 2
}
