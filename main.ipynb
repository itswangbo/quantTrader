{
 "cells": [
  {
   "cell_type": "code",
   "execution_count": 1,
   "metadata": {},
   "outputs": [],
   "source": [
    "# This Python 3 environment comes with many helpful analytics libraries installed\n",
    "# It is defined by the kaggle/python Docker image: https://github.com/kaggle/docker-python\n",
    "# For example, here's several helpful packages to load\n",
    "import numpy as np # linear algebra\n",
    "import pandas as pd # data processing, CSV file I/O (e.g. pd.read_csv)\n",
    "import os\n",
    "from qids_package.qids import *"
   ]
  },
  {
   "cell_type": "code",
   "execution_count": 2,
   "metadata": {},
   "outputs": [
    {
     "name": "stdout",
     "output_type": "stream",
     "text": [
      "Environment is initialized.\n"
     ]
    }
   ],
   "source": [
    "env = make_env()  # initialize the environment"
   ]
  },
  {
   "cell_type": "code",
   "execution_count": 3,
   "metadata": {},
   "outputs": [
    {
     "name": "stdout",
     "output_type": "stream",
     "text": [
      "Data Feeding is finished.\n"
     ]
    }
   ],
   "source": [
    "# sample code using random number as prediction\n",
    "import random\n",
    "random.seed(42)\n",
    "while not env.is_end():\n",
    "    fundamental_df, market_df = env.get_current_market()  # get correlated dataset\n",
    "\n",
    "    # make your prediction Y here and replace the following four rows\n",
    "    l = []\n",
    "    for idx in range(54):\n",
    "        l.append(random.random())\n",
    "    predict_ds = pd.Series(l)\n",
    "\n",
    "    env.input_prediction(predict_ds)  # upload your predicted Y"
   ]
  },
  {
   "cell_type": "code",
   "execution_count": 3,
   "metadata": {},
   "outputs": [
    {
     "ename": "",
     "evalue": "",
     "output_type": "error",
     "traceback": [
      "\u001b[1;31mCanceled future for execute_request message before replies were done"
     ]
    },
    {
     "ename": "",
     "evalue": "",
     "output_type": "error",
     "traceback": [
      "\u001b[1;31mThe Kernel crashed while executing code in the the current cell or a previous cell. Please review the code in the cell(s) to identify a possible cause of the failure. Click <a href='https://aka.ms/vscodeJupyterKernelCrash'>here</a> for more info. View Jupyter <a href='command:jupyter.viewOutput'>log</a> for further details."
     ]
    }
   ],
   "source": [
    "import pandas as pd\n",
    "path_fund = './first_round_train_fundamental_data.csv'\n",
    "path_market = './first_round_train_market_data.csv'\n",
    "path_ret = './first_round_train_return_data.csv'\n",
    "def get_data(path_fund, path_market, path_ret):\n",
    "    train_fund_data = pd.read_csv(path_fund)\n",
    "    train_market_data = pd.read_csv(path_market)\n",
    "    train_return_data = pd.read_csv(path_ret)\n",
    "    train_fund_data[['code','time']] = train_fund_data['date_time'].str.split(\"d\", expand=True)\n",
    "    train_market_data[['code','time']] = train_market_data['date_time'].str.split(\"d\", expand=True)\n",
    "    train_return_data[['code','time']] = train_return_data['date_time'].str.split(\"d\", expand=True)\n",
    "    train_fund_data = train_fund_data.groupby('code')\n",
    "    train_market_data = train_market_data.groupby('code')\n",
    "    train_return_data = train_return_data.groupby('code')\n",
    "    return train_fund_data, train_market_data, train_return_data\n",
    "\n",
    "train_fund_data, train_market_data, train_return_data = get_data(path_fund, path_market, path_ret)\n",
    "\n",
    "\n",
    "\n",
    "\n"
   ]
  },
  {
   "cell_type": "code",
   "execution_count": 3,
   "metadata": {},
   "outputs": [
    {
     "ename": "",
     "evalue": "",
     "output_type": "error",
     "traceback": [
      "\u001b[1;31mCanceled future for execute_request message before replies were done"
     ]
    },
    {
     "ename": "",
     "evalue": "",
     "output_type": "error",
     "traceback": [
      "\u001b[1;31mThe Kernel crashed while executing code in the the current cell or a previous cell. Please review the code in the cell(s) to identify a possible cause of the failure. Click <a href='https://aka.ms/vscodeJupyterKernelCrash'>here</a> for more info. View Jupyter <a href='command:jupyter.viewOutput'>log</a> for further details."
     ]
    }
   ],
   "source": [
    "train_fund_"
   ]
  },
  {
   "cell_type": "code",
   "execution_count": null,
   "metadata": {},
   "outputs": [],
   "source": []
  },
  {
   "cell_type": "code",
   "execution_count": null,
   "metadata": {},
   "outputs": [],
   "source": []
  }
 ],
 "metadata": {
  "kernelspec": {
   "display_name": "Python 3 (ipykernel)",
   "language": "python",
   "name": "python3"
  },
  "language_info": {
   "codemirror_mode": {
    "name": "ipython",
    "version": 3
   },
   "file_extension": ".py",
   "mimetype": "text/x-python",
   "name": "python",
   "nbconvert_exporter": "python",
   "pygments_lexer": "ipython3",
   "version": "3.10.4"
  },
  "orig_nbformat": 4
 },
 "nbformat": 4,
 "nbformat_minor": 2
}
